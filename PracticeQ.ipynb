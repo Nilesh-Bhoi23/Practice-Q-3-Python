{
 "cells": [
  {
   "cell_type": "code",
   "execution_count": 3,
   "id": "f4341628-b986-4d23-8365-948d89f05139",
   "metadata": {},
   "outputs": [
    {
     "name": "stdin",
     "output_type": "stream",
     "text": [
      "Enter number : 6\n"
     ]
    },
    {
     "name": "stdout",
     "output_type": "stream",
     "text": [
      "720\n"
     ]
    }
   ],
   "source": [
    "#1) Write a function to find factorial of given number \n",
    "number = int(input('Enter number :'))\n",
    "def factorial(n):\n",
    "    if n == 0 or n == 1:\n",
    "        return 1\n",
    "    else:\n",
    "        return n * factorial(n-1)\n",
    "result = factorial(number)\n",
    "print(result)\n"
   ]
  },
  {
   "cell_type": "code",
   "execution_count": 13,
   "id": "52e1d2f9-07d6-409d-83f3-ae60ddf2c47e",
   "metadata": {},
   "outputs": [
    {
     "name": "stdout",
     "output_type": "stream",
     "text": [
      "<class 'str'>: 2\n",
      "<class 'int'>: 2\n",
      "<class 'float'>: 2\n"
     ]
    }
   ],
   "source": [
    "#2) Write function to find number of datatype in given list ?\n",
    "\n",
    "list = ['Nilesh','Rohit',2,3,4.2,8.2,\"hii\",45]\n",
    "def count_datatypes(input_list):\n",
    "    d_ty_count = {}\n",
    "\n",
    "    for item in input_list:\n",
    "        data_type = type(item)\n",
    "        d_ty_count[data_type] = d_ty_count.get(data_type, 0) + 1\n",
    "\n",
    "    return d_ty_count\n",
    "\n",
    "result = count_datatypes(my_list)\n",
    "\n",
    "for data_type, count in result.items():\n",
    "    print(f\"{data_type}: {count}\")"
   ]
  },
  {
   "cell_type": "code",
   "execution_count": 26,
   "id": "18135fb8-b822-45a9-aecd-7050ef0a10ed",
   "metadata": {},
   "outputs": [
    {
     "name": "stdout",
     "output_type": "stream",
     "text": [
      "str_list: ['Nilesh', 'is', 'Developer', '19']\n",
      "int_list: [5, 8, 7, 10]\n"
     ]
    }
   ],
   "source": [
    "#3) Write a python program to seprate string and integer values from given list:\n",
    "given_list = ['Nilesh','is','Developer',5,8,7,10,'19']\n",
    "str_list = []\n",
    "int_list = []\n",
    "\n",
    "def sep_values(given_list):\n",
    "    for item in given_list:\n",
    "        if type(item) == str:\n",
    "            str_list.append(item)\n",
    "        else:\n",
    "            int_list.append(item)\n",
    "    return str_list, int_list\n",
    "\n",
    "result = sep_values(given_list)\n",
    "\n",
    "print('str_list:', str_list)\n",
    "print('int_list:', int_list)\n"
   ]
  },
  {
   "cell_type": "code",
   "execution_count": null,
   "id": "4bbdfc03-dd5a-4c7c-b895-c36221cfa8c4",
   "metadata": {},
   "outputs": [],
   "source": [
    "# 4) Find prime number from given list.\n",
    "\n",
    "list = [10,8,96,17,3,227,55]\n"
   ]
  },
  {
   "cell_type": "code",
   "execution_count": 2,
   "id": "0d27fb28-5034-45d3-aa74-9563685b55c1",
   "metadata": {},
   "outputs": [
    {
     "name": "stdout",
     "output_type": "stream",
     "text": [
      "Number of vowels in mehulbhau: 4\n",
      "Number of vowels in yogesh: 2\n",
      "Number of vowels in rahul: 2\n",
      "Number of vowels in nilesh: 2\n",
      "Number of vowels in ritesh: 2\n"
     ]
    }
   ],
   "source": [
    "# 5) Take a list contaoning names and find number of vowels in it.\n",
    "name_list = ['mehulbhau', 'yogesh', 'rahul', 'nilesh', 'ritesh']\n",
    "for name in name_list:\n",
    "    vowel_count = 0\n",
    "    for char in name:\n",
    "        if char in ['a', 'e', 'i', 'o', 'u']:\n",
    "            vowel_count += 1\n",
    "    print(f\"Number of vowels in {name}: {vowel_count}\")\n"
   ]
  },
  {
   "cell_type": "code",
   "execution_count": 3,
   "id": "921925e7-e1bf-4918-a9af-ee7e4e832de2",
   "metadata": {},
   "outputs": [
    {
     "name": "stdout",
     "output_type": "stream",
     "text": [
      "The result of adding 3 and 20 to 5 is: 28\n"
     ]
    }
   ],
   "source": [
    "# 6 Q) Write Functon which returns (number)3+20 for any given number.\n",
    "\n",
    "def add_three_and_twenty(number):\n",
    "    result = number + 23  # Adding 3 + 20\n",
    "    return result\n",
    "\n",
    "# Example usage:\n",
    "input_number = 5\n",
    "output = add_three_and_twenty(input_number)\n",
    "\n",
    "print(f\"The result of adding 3 and 20 to {input_number} is: {output}\")\n"
   ]
  },
  {
   "cell_type": "code",
   "execution_count": null,
   "id": "04aa5978-5d4d-4c45-8e2c-45ddc6df5b2d",
   "metadata": {},
   "outputs": [],
   "source": [
    "# -----------------------------------------------------------------------------------------------"
   ]
  },
  {
   "cell_type": "code",
   "execution_count": 4,
   "id": "ff15a42f-4e7b-4fab-bdbd-375f6e6e3c4f",
   "metadata": {},
   "outputs": [
    {
     "name": "stdout",
     "output_type": "stream",
     "text": [
      "Merged and Sorted List: [1, 2, 3, 4, 5, 7, 8, 9]\n"
     ]
    }
   ],
   "source": [
    "# 1. Write a function to merge two lists into a single sorted list.\n",
    "\n",
    "def merge_and_sort_lists(list1, list2):\n",
    "    # Concatenate the two lists\n",
    "    merged_list = list1 + list2\n",
    "    \n",
    "    # Use the sorted function to sort the merged list\n",
    "    sorted_list = sorted(merged_list)\n",
    "    \n",
    "    return sorted_list\n",
    "\n",
    "# Example usage:\n",
    "list1 = [3, 7, 1, 9]\n",
    "list2 = [5, 2, 8, 4]\n",
    "\n",
    "result = merge_and_sort_lists(list1, list2)\n",
    "print(\"Merged and Sorted List:\", result)\n"
   ]
  },
  {
   "cell_type": "code",
   "execution_count": 6,
   "id": "38f17f63-d62c-40fd-b9c2-52d0e234a22c",
   "metadata": {},
   "outputs": [
    {
     "name": "stdout",
     "output_type": "stream",
     "text": [
      "Original List: [1, 2, 2, 3, 4, 4, 5]\n",
      "Unique Elements: [1, 2, 3, 4, 5]\n"
     ]
    }
   ],
   "source": [
    "# 2. Create a function to return unique elements from a list.\n",
    "my_list = [1, 2, 2, 3, 4, 4, 5]\n",
    "def get_unique_elements(input_list):\n",
    "    unique_elements = list(set(input_list))\n",
    "    return unique_elements\n",
    "\n",
    "result = get_unique_elements(my_list)\n",
    "\n",
    "print(\"Original List:\", my_list)\n",
    "print(\"Unique Elements:\", result)\n"
   ]
  },
  {
   "cell_type": "code",
   "execution_count": 7,
   "id": "821c55a4-47f5-4cef-8ac2-7184ead46fe2",
   "metadata": {},
   "outputs": [
    {
     "name": "stdout",
     "output_type": "stream",
     "text": [
      "Original List: [1, 2, 3, 4, 5]\n",
      "Sum of Elements: 15\n"
     ]
    }
   ],
   "source": [
    "# 4. Implement a function to calculate the sum of all elements in a list.\n",
    "\n",
    "my_list = [1, 2, 3, 4, 5]\n",
    "\n",
    "def calculate_list_sum(input_list):\n",
    "    list_sum = sum(input_list)\n",
    "    return list_sum\n",
    "result = calculate_list_sum(my_list)\n",
    "print(\"Original List:\", my_list)\n",
    "print(\"Sum of Elements:\", result)\n"
   ]
  },
  {
   "cell_type": "code",
   "execution_count": 8,
   "id": "3e605daf-f09d-4bc5-af48-077b5b4d6ddf",
   "metadata": {},
   "outputs": [
    {
     "name": "stdout",
     "output_type": "stream",
     "text": [
      "Original List: [1, 2, 2, 3, 4, 4, 5]\n",
      "List without Duplicates: [1, 2, 3, 4, 5]\n"
     ]
    }
   ],
   "source": [
    "# 5. Create a function to remove duplicate elements from a list.\n",
    "my_list = [1, 2, 2, 3, 4, 4, 5]\n",
    "def remove_duplicates(input_list):\n",
    "    unique_elements = list(set(input_list))\n",
    "    return unique_elements\n",
    "\n",
    "result = remove_duplicates(my_list)\n",
    "\n",
    "print(\"Original List:\", my_list)\n",
    "print(\"List without Duplicates:\", result)\n"
   ]
  },
  {
   "cell_type": "code",
   "execution_count": 16,
   "id": "e13daace-4866-4365-91dd-bd1688d1842d",
   "metadata": {},
   "outputs": [
    {
     "name": "stdout",
     "output_type": "stream",
     "text": [
      "Common Keys: {'c', 'b'}\n"
     ]
    }
   ],
   "source": [
    "# 6. Write a function to find the common keys in two dictionaries\n",
    "dictionary1 = {'a': 1, 'b': 2, 'c': 3}\n",
    "dictionary2 = {'b': 4, 'c': 5, 'd': 6}\n",
    "\n",
    "def common_keys(dict1, dict2):\n",
    "    return set(dict1.keys()) & set(dict2.keys())\n",
    "\n",
    "common_keys_result = common_keys(dictionary1, dictionary2)\n",
    "print(\"Common Keys:\", common_keys_result)"
   ]
  },
  {
   "cell_type": "code",
   "execution_count": 10,
   "id": "359fa36d-2d8a-4cdb-a743-5b448e739c45",
   "metadata": {},
   "outputs": [
    {
     "name": "stdout",
     "output_type": "stream",
     "text": [
      "Existing List: [1, 2, 3, 4, 5, 6, 7, 8, 9, 10]\n",
      "New List with Even Elements: [2, 4, 6, 8, 10]\n"
     ]
    }
   ],
   "source": [
    "# 7. Use list comprehension to create a new list that contains only the even elements from an existing list.\n",
    "\n",
    "existing_list = [1, 2, 3, 4, 5, 6, 7, 8, 9, 10]\n",
    "\n",
    "even_elements_list = [x for x in existing_list if x % 2 == 0]\n",
    "\n",
    "print(\"Existing List:\", existing_list)\n",
    "print(\"New List with Even Elements:\", even_elements_list)\n"
   ]
  },
  {
   "cell_type": "code",
   "execution_count": 13,
   "id": "e440353a-075e-403a-8fe9-142dc4573870",
   "metadata": {},
   "outputs": [
    {
     "name": "stdout",
     "output_type": "stream",
     "text": [
      "[2, 1, 6, 2, 10, 3]\n"
     ]
    }
   ],
   "source": [
    "# 9. Write a function to modify a list by doubling the odd numbers and halving the even numbers.\n",
    "original_list = [1, 2, 3, 4, 5, 6]\n",
    "def modify_list(numbers):\n",
    "    modified_list = []\n",
    "    for num in numbers:\n",
    "        if num % 2 == 0:\n",
    "            modified_list.append(num // 2)\n",
    "        else:\n",
    "            modified_list.append(num * 2)\n",
    "    return modified_list\n",
    "\n",
    "result_list = modify_list(original_list)\n",
    "print(result_list)\n"
   ]
  }
 ],
 "metadata": {
  "kernelspec": {
   "display_name": "Python 3 (ipykernel)",
   "language": "python",
   "name": "python3"
  },
  "language_info": {
   "codemirror_mode": {
    "name": "ipython",
    "version": 3
   },
   "file_extension": ".py",
   "mimetype": "text/x-python",
   "name": "python",
   "nbconvert_exporter": "python",
   "pygments_lexer": "ipython3",
   "version": "3.12.1"
  }
 },
 "nbformat": 4,
 "nbformat_minor": 5
}
